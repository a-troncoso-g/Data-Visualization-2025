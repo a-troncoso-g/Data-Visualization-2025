{
 "cells": [
  {
   "cell_type": "markdown",
   "metadata": {},
   "source": [
    "# __Welcome to the Data Visualization Workshops!__"
   ]
  },
  {
   "cell_type": "markdown",
   "metadata": {},
   "source": [
    "__Ayudante__: Gabriel Burgos S."
   ]
  },
  {
   "cell_type": "markdown",
   "metadata": {},
   "source": [
    "## __I. Introducción al Trabajo en los Workshops__"
   ]
  },
  {
   "cell_type": "markdown",
   "metadata": {},
   "source": [
    "### __1.1. Data Visualization y Data Analysis__"
   ]
  },
  {
   "cell_type": "markdown",
   "metadata": {},
   "source": [
    "1. __Importancia del manejo de Datos.__"
   ]
  },
  {
   "cell_type": "markdown",
   "metadata": {},
   "source": [
    "2. __En qué ocupamos datos?__\n",
    "- Optimización de procesos\n",
    "- Análisis de mercado\n",
    "- Control de calidad\n",
    "- Etc."
   ]
  },
  {
   "cell_type": "markdown",
   "metadata": {},
   "source": [
    "### __1.2. Python__"
   ]
  },
  {
   "cell_type": "markdown",
   "metadata": {},
   "source": [
    "Durante los workshop deberemos trabajar con _Python_ y algunas bibliotecas."
   ]
  },
  {
   "cell_type": "markdown",
   "metadata": {},
   "source": [
    "#### i- Qué es Python?\n",
    "- Lenguaje de programación de alto nivel y orientado a objetos.\n",
    "- Destacado por su simpleza.\n",
    "- De código abierto extensible en C y C++.\n",
    "- Se suele utilizar en aplicaciones de _Machine Learning_, _Ciencia de Datos_, ___Análisis de datos___, entre otros.\n"
   ]
  },
  {
   "cell_type": "code",
   "execution_count": null,
   "metadata": {},
   "outputs": [],
   "source": [
    "print('Hola Mundo!')"
   ]
  },
  {
   "cell_type": "code",
   "execution_count": null,
   "metadata": {},
   "outputs": [],
   "source": [
    "n = int(input())\n",
    "for i in range(n):\n",
    "    print('Lamamadelamama',end='')"
   ]
  },
  {
   "cell_type": "markdown",
   "metadata": {},
   "source": [
    "#### ii- Por qué Python?\n",
    "- De muy simple uso.\n",
    "- Las bibliotecas para manejo de datos permiten mucha más cantidad de datos de manera rápida y automatizada.\n",
    "- Utilizaremos '_jupyter notebooks_' los cuales son una manera intuitiva de revisar los códigos.\n"
   ]
  },
  {
   "cell_type": "markdown",
   "metadata": {},
   "source": [
    "#### iii- Instalación:\n",
    "Utilizar Python se puede lograr de diversas maneras, pero yo recomiendo dos:\n",
    "1. [Visual Studio Code](https://code.visualstudio.com/) con extensiones de _Python_.\n",
    "2. [Anaconda Navigator](https://www.anaconda.com/).\n",
    "\n",
    "En este curso utilizaremos principalmente archivos `.ipynb`, por lo que lo importante es trabajar con _jupyter_.\n",
    "\n",
    "- Bibliotecas:\n",
    "\t- [Pandas](https://pandas.pydata.org/)\n",
    "\t- [Polars](https://pola.rs/)\n",
    "\t- [Glob](https://docs.python.org/3/library/glob.html)\n",
    "\t- [Matplotlib](https://matplotlib.org/)\n",
    "\t- [Plotly](https://plotly.com/python/)"
   ]
  },
  {
   "cell_type": "markdown",
   "metadata": {},
   "source": [
    "iv. Material Recomendado:\n",
    "- Revisar el Starter Pack que les subiré:\n",
    "\t- Conceptos de Python básico y avanzado.\n",
    "\t- Guía completa de métodos de Pandas.\n",
    "- Documentación Oficial:\n",
    "\t- [El Tutorial de Python Oficial](https://docs.python.org/es/3.13/tutorial/index.html)\n",
    "\t- [Pandas User Guide](https://pandas.pydata.org/docs/user_guide/index.html)\n",
    "\t- [Polars User Guide](https://docs.pola.rs/)\n",
    "- Tutoriales Recomendados:\n",
    "\t- [Tutorial de Youtube sobre Python Básico](https://www.youtube.com/watch?v=D2cwvpJSBX4).\n",
    "\t- [Pandas en 10 minutos](https://www.youtube.com/watch?v=iGFdh6_FePU)"
   ]
  },
  {
   "cell_type": "markdown",
   "metadata": {},
   "source": [
    "## II- Resolución de Workshop 1"
   ]
  },
  {
   "cell_type": "markdown",
   "metadata": {},
   "source": [
    "Egresos hospitalarios por comuna de residencia. Conjunto de datos: https://deis.minsal.cl/#datosabiertos"
   ]
  },
  {
   "cell_type": "markdown",
   "metadata": {},
   "source": [
    "##### **1. Descargue los egresos hospitalarios para el año 2020 y abra el archivo usando Pandas y Polars. ¿Qué diferencia a ambas bibliotecas?**"
   ]
  },
  {
   "cell_type": "code",
   "execution_count": null,
   "metadata": {},
   "outputs": [],
   "source": [
    "#pip install pandas polars"
   ]
  },
  {
   "cell_type": "code",
   "execution_count": 3,
   "metadata": {},
   "outputs": [],
   "source": [
    "filepath = 'data/egresos hospitalarios/EGRESOS_2020/EGRE_DATOS_ABIERTOS_2020.csv'"
   ]
  },
  {
   "cell_type": "markdown",
   "metadata": {},
   "source": [
    "__Pandas:__"
   ]
  },
  {
   "cell_type": "code",
   "execution_count": 1,
   "metadata": {},
   "outputs": [
    {
     "ename": "ModuleNotFoundError",
     "evalue": "No module named 'pandas'",
     "output_type": "error",
     "traceback": [
      "\u001b[31m---------------------------------------------------------------------------\u001b[39m",
      "\u001b[31mModuleNotFoundError\u001b[39m                       Traceback (most recent call last)",
      "\u001b[36mCell\u001b[39m\u001b[36m \u001b[39m\u001b[32mIn[1]\u001b[39m\u001b[32m, line 1\u001b[39m\n\u001b[32m----> \u001b[39m\u001b[32m1\u001b[39m \u001b[38;5;28;01mimport\u001b[39;00m\u001b[38;5;250m \u001b[39m\u001b[34;01mpandas\u001b[39;00m\u001b[38;5;250m \u001b[39m\u001b[38;5;28;01mas\u001b[39;00m\u001b[38;5;250m \u001b[39m\u001b[34;01mpd\u001b[39;00m\n",
      "\u001b[31mModuleNotFoundError\u001b[39m: No module named 'pandas'"
     ]
    }
   ],
   "source": [
    "import pandas as pd"
   ]
  },
  {
   "cell_type": "code",
   "execution_count": 2,
   "metadata": {},
   "outputs": [
    {
     "ename": "NameError",
     "evalue": "name 'pd' is not defined",
     "output_type": "error",
     "traceback": [
      "\u001b[31m---------------------------------------------------------------------------\u001b[39m",
      "\u001b[31mNameError\u001b[39m                                 Traceback (most recent call last)",
      "\u001b[36mCell\u001b[39m\u001b[36m \u001b[39m\u001b[32mIn[2]\u001b[39m\u001b[32m, line 1\u001b[39m\n\u001b[32m----> \u001b[39m\u001b[32m1\u001b[39m df = \u001b[43mpd\u001b[49m.read_csv(filepath,\n\u001b[32m      2\u001b[39m             encoding=\u001b[33m'\u001b[39m\u001b[33mlatin-1\u001b[39m\u001b[33m'\u001b[39m,\n\u001b[32m      3\u001b[39m \t\t\tsep=\u001b[33m'\u001b[39m\u001b[33m;\u001b[39m\u001b[33m'\u001b[39m,\n\u001b[32m      4\u001b[39m             )\n",
      "\u001b[31mNameError\u001b[39m: name 'pd' is not defined"
     ]
    }
   ],
   "source": [
    "df = pd.read_csv(filepath,\n",
    "            encoding='latin-1',\n",
    "\t\t\tsep=';',\n",
    "            )"
   ]
  },
  {
   "cell_type": "markdown",
   "metadata": {},
   "source": [
    "__Polars:__"
   ]
  },
  {
   "cell_type": "code",
   "execution_count": null,
   "metadata": {},
   "outputs": [],
   "source": [
    "import polars as pl"
   ]
  },
  {
   "cell_type": "code",
   "execution_count": null,
   "metadata": {},
   "outputs": [],
   "source": [
    "pl.read_csv(filepath,\n",
    "\t\t\tencoding='latin-1',\n",
    "\t\t\tseparator=';',\n",
    "\t\t\tnull_values='*',\n",
    "\t\t\t)"
   ]
  },
  {
   "cell_type": "markdown",
   "metadata": {},
   "source": [
    "##### **2. Descargue los egresos hospitalarios del año 2001 al 2020 y cree un único DataFrame usando Pandas. Pista: Use la biblioteca glob . Use este conjunto de datos para todos los análisis solicitados.**"
   ]
  },
  {
   "cell_type": "code",
   "execution_count": null,
   "metadata": {},
   "outputs": [],
   "source": [
    "from glob import glob # Biblioteca para buscar archivos"
   ]
  },
  {
   "cell_type": "code",
   "execution_count": null,
   "metadata": {},
   "outputs": [],
   "source": [
    "csv_list = glob('data/egresos hospitalarios/*/*.csv')\n",
    "csv_list"
   ]
  },
  {
   "cell_type": "code",
   "execution_count": null,
   "metadata": {},
   "outputs": [],
   "source": [
    "def read_csv_custom_pd(csv):\n",
    "    return pd.read_csv(csv,\n",
    "                         sep=';',\n",
    "                         encoding='latin-1',\n",
    "                         na_values='*',\n",
    "                         )\n",
    "\n",
    "def read_csv_custom_pl(csv):\n",
    "    return pl.read_csv(csv,\n",
    "\t\t\t\t\t\tencoding='latin-1',\n",
    "\t\t\t\t\t\tseparator=';',\n",
    "\t\t\t\t\t\tnull_values=['*','NULL'],\n",
    "                        schema_overrides={'PROCED':pl.Int64}\n",
    "\t\t\t\t\t\t)"
   ]
  },
  {
   "cell_type": "code",
   "execution_count": null,
   "metadata": {},
   "outputs": [],
   "source": [
    "# PANDAS\n",
    "total = len(csv_list) # para contador\n",
    "\n",
    "print('Comenzando lectura...')\n",
    "\n",
    "print(f'Leyendo {csv_list[-1].split('\\\\')[-1]} - {0/total:3.0%} ({1:2}/{total})')\n",
    "df = read_csv_custom_pd(csv_list[-1])\n",
    "\n",
    "for i,csv in enumerate(csv_list[-2::-1], start=2):\n",
    "    print(f'Leyendo {csv.split('\\\\')[-1]} - {(i-1)/total:3.0%} ({i:2}/{total})')\n",
    "    sub_df = read_csv_custom_pd(csv)\n",
    "    df = pd.concat([df, sub_df])\n",
    "    if i == 5:\n",
    "        break\n",
    "    \n",
    "print('Lectura finalizada con éxito!')\n",
    "df\n",
    "\n",
    "# Duracion: 4m 46s"
   ]
  },
  {
   "cell_type": "code",
   "execution_count": null,
   "metadata": {},
   "outputs": [],
   "source": [
    "# Correcion ESTABELCIMIENTO DE SALUD\n",
    "\n",
    "# Rellenar valores nulos en 'Nombre' con los valores de 'Nombr'\n",
    "df['PERTENENCIA_ESTABLECIMIENTO_SALUD'] = df['PERTENENCIA_ESTABLECIMIENTO_SALUD'].fillna(df['PERTENENCIA_ESTABLECIMIENTO_SALU'])\n",
    "\n",
    "# Eliminar la columna 'Nombr' si ya no la necesitas\n",
    "df.drop(columns=['PERTENENCIA_ESTABLECIMIENTO_SALU'], inplace=True)\n",
    "\n",
    "# Verificar el resultado\n",
    "df.head()"
   ]
  },
  {
   "cell_type": "code",
   "execution_count": null,
   "metadata": {},
   "outputs": [],
   "source": [
    "# POLARS\n",
    "total = len(csv_list) # para contador\n",
    "\n",
    "print('Comenzando lectura...')\n",
    "\n",
    "print(f'Leyendo {csv_list[0].split('\\\\')[-1]} - {0/total:3.0%} ({1:2}/{total})')\n",
    "df = read_csv_custom_pl(csv_list[0])\n",
    "\n",
    "for i,csv in enumerate(csv_list[1:], start=2):\n",
    "    print(f'Leyendo {csv.split('\\\\')[-1]} - {(i-1)/total:3.0%} ({i:2}/{total})')\n",
    "    sub_df = read_csv_custom_pl(csv)\n",
    "    df = pl.concat([df, sub_df], how='vertical_relaxed')\n",
    "    \n",
    "print('Lectura finalizada con éxito!')\n",
    "df\n",
    "\n",
    "# Duracion: aprox. 40s (NUNCA ME FUNCIONOO)"
   ]
  },
  {
   "cell_type": "markdown",
   "metadata": {},
   "source": [
    "##### **3. Determine el total de ﬁlas y columnas.**"
   ]
  },
  {
   "cell_type": "code",
   "execution_count": null,
   "metadata": {},
   "outputs": [],
   "source": [
    "df.shape"
   ]
  },
  {
   "cell_type": "code",
   "execution_count": null,
   "metadata": {},
   "outputs": [],
   "source": [
    "print(f'El dataset contiene {df.shape[0]:,} entradas (filas) y {df.shape[1]} variables (columnas).')"
   ]
  },
  {
   "cell_type": "markdown",
   "metadata": {},
   "source": [
    "##### **4. Determine el total de ﬁlas, según sexo biológico.**"
   ]
  },
  {
   "cell_type": "code",
   "execution_count": null,
   "metadata": {},
   "outputs": [],
   "source": [
    "df['SEXO'].value_counts()"
   ]
  },
  {
   "cell_type": "code",
   "execution_count": null,
   "metadata": {},
   "outputs": [],
   "source": [
    "print(f'Hay {df['SEXO'].value_counts()['MUJER']:,} mujeres y {df['SEXO'].value_counts()['HOMBRE']:,} hombres.')"
   ]
  },
  {
   "cell_type": "markdown",
   "metadata": {},
   "source": [
    "##### **5. Determine la patología que es más frecuente en el conjunto de datos.**"
   ]
  },
  {
   "cell_type": "code",
   "execution_count": null,
   "metadata": {},
   "outputs": [],
   "source": [
    "df['DIAG1'].value_counts().sort_values(ascending=False).head()"
   ]
  },
  {
   "cell_type": "code",
   "execution_count": null,
   "metadata": {},
   "outputs": [],
   "source": [
    "serie = df['DIAG1'].value_counts().sort_values(ascending=False)\n",
    "\n",
    "print(f'El diagnóstico más frecuente es {serie.index[0]} con {serie.iloc[0]:,} casos.')"
   ]
  },
  {
   "cell_type": "markdown",
   "metadata": {},
   "source": [
    "##### **6. Filtre únicamente los registros correspondientes a la comuna de Concepción.**"
   ]
  },
  {
   "cell_type": "code",
   "execution_count": null,
   "metadata": {},
   "outputs": [],
   "source": [
    "comunas = df['GLOSA_COMUNA_RESIDENCIA'].dropna().unique()\n",
    "comunas.sort()\n",
    "comunas"
   ]
  },
  {
   "cell_type": "code",
   "execution_count": null,
   "metadata": {},
   "outputs": [],
   "source": [
    "df[df['GLOSA_COMUNA_RESIDENCIA'] == 'Concepción']"
   ]
  },
  {
   "cell_type": "markdown",
   "metadata": {},
   "source": [
    "##### **7. Calcule el total de ﬁlas correspondientes a las comunas de Cañete, Los Ángeles y Chillán.**"
   ]
  },
  {
   "cell_type": "code",
   "execution_count": null,
   "metadata": {},
   "outputs": [],
   "source": [
    "df[df['GLOSA_COMUNA_RESIDENCIA'].isin(['Cañete', 'Los Ángeles', 'Chillán'])]"
   ]
  },
  {
   "cell_type": "code",
   "execution_count": null,
   "metadata": {},
   "outputs": [],
   "source": [
    "len(df[df['GLOSA_COMUNA_RESIDENCIA'].isin(['Cañete', 'Los Ángeles', 'Chillán'])])"
   ]
  },
  {
   "cell_type": "code",
   "execution_count": null,
   "metadata": {},
   "outputs": [],
   "source": [
    "print('Hay', len(df[df['GLOSA_COMUNA_RESIDENCIA'].isin(['Cañete', 'Los Ángeles', 'Chillán'])]), 'casos en las comunas de Cañete, Los Ángeles y Chillán.')"
   ]
  },
  {
   "cell_type": "markdown",
   "metadata": {},
   "source": [
    "##### **8. Calcule el total de ﬁlas correspondientes a las comunas de Santa Juana, Maipú, Puente Alto y Pudahuel, en los años de egresos 2021 y 2022.**"
   ]
  },
  {
   "cell_type": "code",
   "execution_count": null,
   "metadata": {},
   "outputs": [],
   "source": [
    "filtro_comuna = df['GLOSA_COMUNA_RESIDENCIA'].isin(['Santa Juana', 'Puente Alto', 'Maipú', 'Pudahuel'])\n",
    "filtro_fecha = df['ANO_EGRESO']<=2019\n",
    "filtro_fecha2 = df['ANO_EGRESO']>=2018\n",
    "\n",
    "df_filtrado = df[filtro_comuna &\n",
    "\t\t\t\t filtro_fecha &\n",
    "\t\t\t\t filtro_fecha2\n",
    "    \t\t\t]\n",
    "\n",
    "df_filtrado"
   ]
  },
  {
   "cell_type": "code",
   "execution_count": null,
   "metadata": {},
   "outputs": [],
   "source": [
    "len(df_filtrado)"
   ]
  },
  {
   "cell_type": "markdown",
   "metadata": {},
   "source": [
    "##### **9. Filtre los registros correspondientes a años de egreso pares. Evite deﬁnir año a año en el ﬁltro .**"
   ]
  },
  {
   "cell_type": "code",
   "execution_count": null,
   "metadata": {},
   "outputs": [],
   "source": [
    "filtro_año_par = df['ANO_EGRESO'] % 2 == 0\n",
    "\n",
    "df[filtro_año_par]"
   ]
  },
  {
   "cell_type": "markdown",
   "metadata": {},
   "source": [
    "##### **10. Estime el porcentaje de egresos hospitalarios que se identiﬁca con una etnia en la región de Tarapacá, y compare dicho porcentaje con el correspondiente a la región de Los Ríos.**"
   ]
  },
  {
   "cell_type": "code",
   "execution_count": null,
   "metadata": {},
   "outputs": [],
   "source": [
    "df['GLOSA_REGION_RESIDENCIA'].unique()"
   ]
  },
  {
   "cell_type": "code",
   "execution_count": null,
   "metadata": {},
   "outputs": [],
   "source": [
    "df['ETNIA'].unique()"
   ]
  },
  {
   "cell_type": "code",
   "execution_count": null,
   "metadata": {},
   "outputs": [],
   "source": [
    "filtro_tarapaca = df['GLOSA_REGION_RESIDENCIA'] == 'De Tarapacá'\n",
    "filtro_losrios = df['GLOSA_REGION_RESIDENCIA'] == 'De Los Ríos'\n",
    "filtro_etnia = df['ETNIA'] == 'Si se identifica con alguna etnia'\n",
    "\n",
    "df_T = df[filtro_tarapaca]\n",
    "df_LR = df[filtro_losrios]\n",
    "df_T_et = df[filtro_tarapaca & filtro_etnia]\n",
    "df_LR_et = df[filtro_losrios & filtro_etnia]"
   ]
  },
  {
   "cell_type": "code",
   "execution_count": null,
   "metadata": {},
   "outputs": [],
   "source": [
    "total_tarapaca = len(df_T)\n",
    "total_losrios = len(df_LR)\n",
    "etnias_tarapaca = len(df_T_et)\n",
    "etnias_losrios = len(df_LR_et)\n",
    "\n",
    "print(f'La proporción de personas identificadas por etnias en Tarapacá es de {etnias_tarapaca/total_tarapaca:.3%} y de {etnias_losrios/total_losrios:.3%} en Los Ríos')"
   ]
  },
  {
   "cell_type": "markdown",
   "metadata": {},
   "source": [
    "##### **11. ¿Cuál es la patología con mayor cantidad de egresos hospitalarios en la comuna de Concepción en 2022? ¿Fue la misma patología que en 2001?**"
   ]
  },
  {
   "cell_type": "code",
   "execution_count": null,
   "metadata": {},
   "outputs": [],
   "source": [
    "filtro_conce = df['GLOSA_COMUNA_RESIDENCIA'] == 'Concepción'\n",
    "filtro_2022 = df['ANO_EGRESO'] == 2020 # Reemplazo por 2020\n",
    "filtro_2001 = df['ANO_EGRESO'] == 2016 # Reemplazo por 2016"
   ]
  },
  {
   "cell_type": "code",
   "execution_count": null,
   "metadata": {},
   "outputs": [],
   "source": [
    "df_conce_2022 = df[filtro_conce & filtro_2022]\n",
    "df_conce_2022['DIAG1'].value_counts().sort_values(ascending=False).head(1)"
   ]
  },
  {
   "cell_type": "code",
   "execution_count": null,
   "metadata": {},
   "outputs": [],
   "source": [
    "df_conce_2001 = df[filtro_conce & filtro_2001]\n",
    "df_conce_2001['DIAG1'].value_counts().sort_values(ascending=False).head(1)"
   ]
  },
  {
   "cell_type": "markdown",
   "metadata": {},
   "source": [
    "##### **12. Calcule los días de estancia hospitalaria promedio, según diagnóstico.**"
   ]
  },
  {
   "cell_type": "code",
   "execution_count": null,
   "metadata": {},
   "outputs": [],
   "source": [
    "df.groupby('DIAG1').agg({'DIAS_ESTADA':'mean'}).T"
   ]
  },
  {
   "cell_type": "markdown",
   "metadata": {},
   "source": [
    "##### **13. ¿Qué porcentaje de los egresos hospitalarios presenta condición de egreso del paciente como fallecido?**"
   ]
  },
  {
   "cell_type": "code",
   "execution_count": null,
   "metadata": {},
   "outputs": [],
   "source": [
    "df['CONDICION_EGRESO'].unique()"
   ]
  },
  {
   "cell_type": "code",
   "execution_count": null,
   "metadata": {},
   "outputs": [],
   "source": [
    "filtro_fallecidos = df['CONDICION_EGRESO'] == 2\n",
    "\n",
    "cantidad_fallecidos = len(df[filtro_fallecidos])\n",
    "total = len(df)\n",
    "\n",
    "print(f'El porcentaje de fallecidos es de {cantidad_fallecidos/total:.3%}')"
   ]
  },
  {
   "cell_type": "markdown",
   "metadata": {},
   "source": [
    "##### **14. Compare las 10 patologías más frecuentes según el país de origen del paciente.**"
   ]
  },
  {
   "cell_type": "code",
   "execution_count": null,
   "metadata": {},
   "outputs": [],
   "source": [
    "df['GLOSA_PAIS_ORIGEN'].unique()"
   ]
  },
  {
   "cell_type": "code",
   "execution_count": null,
   "metadata": {},
   "outputs": [],
   "source": [
    "filtro_chileno = df['GLOSA_PAIS_ORIGEN'] == 'Chileno'\n",
    "filtro_extranjero = df['GLOSA_PAIS_ORIGEN'] == 'extranjero'\n",
    "\n",
    "top_diagnostico_chileno = df[filtro_chileno]['DIAG1'].value_counts().sort_values(ascending=False).head(10)\n",
    "top_diagnostico_extranjero = df[filtro_extranjero]['DIAG1'].value_counts().sort_values(ascending=False).head(10)\n",
    "\n",
    "datos = {'top chileno': top_diagnostico_chileno.index,'cantidad ch': top_diagnostico_chileno.values,'top extranjero': top_diagnostico_extranjero.index, 'cantidad ext':top_diagnostico_extranjero.values}\n",
    "\n",
    "tabla_comparativa = pd.DataFrame(datos,index=[i for i in range(1,11)])\n",
    "tabla_comparativa"
   ]
  },
  {
   "cell_type": "markdown",
   "metadata": {},
   "source": [
    "##### **15. Estime la principal patología de cada comuna. ¿Identiﬁca algún patrón geográﬁco?**"
   ]
  },
  {
   "cell_type": "code",
   "execution_count": null,
   "metadata": {},
   "outputs": [],
   "source": [
    "df.groupby('GLOSA_COMUNA_RESIDENCIA').agg()"
   ]
  },
  {
   "cell_type": "markdown",
   "metadata": {},
   "source": [
    "##### **16. Calcule el total de egresos hospitalarios por año.**"
   ]
  },
  {
   "cell_type": "code",
   "execution_count": null,
   "metadata": {},
   "outputs": [],
   "source": [
    "df['ANO_EGRESO'].value_counts()"
   ]
  },
  {
   "cell_type": "markdown",
   "metadata": {},
   "source": [
    "##### **17. Calcule el total de egresos hospitalarios por año para la región de Biobío.**"
   ]
  },
  {
   "cell_type": "code",
   "execution_count": null,
   "metadata": {},
   "outputs": [],
   "source": [
    "filtro_biobio = df['GLOSA_REGION_RESIDENCIA'] == 'Del Bíobío'\n",
    "\n",
    "df[filtro_biobio]['ANO_EGRESO'].value_counts()"
   ]
  },
  {
   "cell_type": "markdown",
   "metadata": {},
   "source": [
    "##### **18. ¿Cuáles son los porcentajes de egresos según previsión de salud?**"
   ]
  },
  {
   "cell_type": "code",
   "execution_count": null,
   "metadata": {},
   "outputs": [],
   "source": []
  },
  {
   "cell_type": "markdown",
   "metadata": {},
   "source": [
    "##### **19. Sin incluir comunas de la región metropolitana, ¿cuáles son las comunas con mayor mediana de días de estada hospitalaria?**"
   ]
  },
  {
   "cell_type": "code",
   "execution_count": null,
   "metadata": {},
   "outputs": [],
   "source": []
  },
  {
   "cell_type": "markdown",
   "metadata": {},
   "source": [
    "##### **20. Calcule el total de patologías según grupo de edad y sexo biológico.**"
   ]
  },
  {
   "cell_type": "code",
   "execution_count": null,
   "metadata": {},
   "outputs": [],
   "source": []
  },
  {
   "cell_type": "markdown",
   "metadata": {},
   "source": [
    "##### **21. Guarde los datos obtenidos en la pregunta 12 en un nuevo archivo llamado “egresos.xlsx”. No olvides usar reset_index() .**"
   ]
  },
  {
   "cell_type": "code",
   "execution_count": null,
   "metadata": {},
   "outputs": [],
   "source": []
  }
 ],
 "metadata": {
  "kernelspec": {
   "display_name": ".venv",
   "language": "python",
   "name": "python3"
  },
  "language_info": {
   "codemirror_mode": {
    "name": "ipython",
    "version": 3
   },
   "file_extension": ".py",
   "mimetype": "text/x-python",
   "name": "python",
   "nbconvert_exporter": "python",
   "pygments_lexer": "ipython3",
   "version": "3.12.3"
  }
 },
 "nbformat": 4,
 "nbformat_minor": 2
}
