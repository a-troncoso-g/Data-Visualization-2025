{
 "cells": [
  {
   "cell_type": "markdown",
   "metadata": {},
   "source": [
    "# Análisis de Datos con Pandas en Python\n",
    "__Autor__: Gabriel Burgos S."
   ]
  },
  {
   "cell_type": "markdown",
   "metadata": {},
   "source": [
    "__En este _jupyter notebook_ se encuentran resumidos las funcionalidades de pandas de manera concisa para poder ser revisado, estudiado y revisitado según se necesite.__\n",
    "\n",
    "[*] ___Nota__: Este es un repaso muy resumido. Para un aprendizaje más integral recomiendo complementar este material con ejercicio y estudio personal más extensivo y en mayor profundidad._\n",
    "- _Para más información, se recomienda encarecidamente visitar la [guía de usuario oficial de Pandas](https://pandas.pydata.org/docs/user_guide/index.html)._"
   ]
  },
  {
   "cell_type": "markdown",
   "metadata": {},
   "source": [
    "## Contenidos:\n",
    "- __Capítulo 1 - Comenzando con Pandas:__\n",
    "\t- 1.1- Instalación e Importación\n",
    "\t- 1.2- Objetos Fundamentales de Pandas\n",
    "\t\t- A) Series de Pandas\n",
    "\t\t- B) DataFrames de Pandas\n",
    "\t- 1.3- Lectura y Escritura de Archivos de Datos\n",
    "- __Capítulo 2 - Analizando Datos con Pandas:__\n",
    "\t- 2.1- Selección y Filtrado de Datos\n",
    "\t- 2.2- Estadísticas Básicas\n",
    "\t- 2.3- Data Descriptiva\n",
    "\t- 2.4- Agregación de Datos\n",
    "- __Capítulo 3 - Manipulando datos con Pandas:__\n",
    "\t- 3.1- Manipulación Básica\n",
    "\t- 3.2- Manejo de Datos Nulos\n",
    "\t- 3.3- Manipulación Filtrada\n",
    "\t- 3.4- Funciones Complejas sobre Datos\n",
    "\t\t- A) Funciones Lambda\n",
    "\t\t- B) Funciones Generales\n",
    "\t\t- C) Mapeo\n",
    "- __Capítulo 4 - Uniendo DataFrames:__\n",
    "\t- 4.1- Concatenación\n",
    "\t- 4.2- Fusión\n",
    "- __Capítulo 5 - Tidy Data:__\n",
    "\t- 5.1- Función Melt\n",
    "\t- 5.2- Función Pivot"
   ]
  },
  {
   "cell_type": "markdown",
   "metadata": {},
   "source": [
    "## __Capítulo 1 - Comenzando con Pandas__"
   ]
  },
  {
   "cell_type": "markdown",
   "metadata": {},
   "source": [
    "### __1.1- Instalación e Importación__"
   ]
  },
  {
   "cell_type": "markdown",
   "metadata": {},
   "source": [
    "__Instalación de la biblioteca base:__\n",
    "```{python}\n",
    "   !pip install pandas\n",
    "```"
   ]
  },
  {
   "cell_type": "markdown",
   "metadata": {},
   "source": [
    "$\\rightarrow$ _Para trabajar con excel se deben instalar dos bibliotecas extras: openpyxl y xlrd:_\n",
    "```{python}\n",
    "   !pip install pandas openpyxl xlrd\n",
    "```"
   ]
  },
  {
   "cell_type": "markdown",
   "metadata": {},
   "source": [
    "__Importando la biblioteca:__"
   ]
  },
  {
   "cell_type": "code",
   "execution_count": 2,
   "metadata": {},
   "outputs": [],
   "source": [
    "# BASE\n",
    "import pandas as pd"
   ]
  },
  {
   "cell_type": "markdown",
   "metadata": {},
   "source": [
    "### __1.2- Objetos Fundamentales de Pandas__"
   ]
  },
  {
   "cell_type": "markdown",
   "metadata": {},
   "source": [
    "#### __A) Series de Pandas__"
   ]
  },
  {
   "cell_type": "markdown",
   "metadata": {},
   "source": [
    "Las **Series** son una estructura de datos unidimensional, similar a una columna en una hoja de cálculo o una lista en Python."
   ]
  },
  {
   "cell_type": "code",
   "execution_count": 3,
   "metadata": {},
   "outputs": [
    {
     "data": {
      "text/plain": [
       "0    a\n",
       "1    b\n",
       "2    c\n",
       "3    d\n",
       "dtype: object"
      ]
     },
     "execution_count": 3,
     "metadata": {},
     "output_type": "execute_result"
    }
   ],
   "source": [
    "data = pd.Series(['a','b','c','d']) # Serie predeterminada\n",
    "data"
   ]
  },
  {
   "cell_type": "code",
   "execution_count": 4,
   "metadata": {},
   "outputs": [
    {
     "data": {
      "text/plain": [
       "a    1\n",
       "b    2\n",
       "c    3\n",
       "d    4\n",
       "dtype: int64"
      ]
     },
     "execution_count": 4,
     "metadata": {},
     "output_type": "execute_result"
    }
   ],
   "source": [
    "data = pd.Series([1, 2, 3, 4], index=['a', 'b', 'c', 'd']) # serie con indices determinados\n",
    "data"
   ]
  },
  {
   "cell_type": "markdown",
   "metadata": {},
   "source": [
    "#### __B) DataFrames en Pandas__"
   ]
  },
  {
   "cell_type": "markdown",
   "metadata": {},
   "source": [
    "Un **DataFrame** es una tabla bidimensional que contiene filas y columnas."
   ]
  },
  {
   "cell_type": "code",
   "execution_count": null,
   "metadata": {},
   "outputs": [],
   "source": [
    "# Crear un DataFrame\n",
    "data = {'col1': [1, 2, 3], 'col2': [4, 5, 6]} # Se construyen generalmente utilizando diccionarios\n",
    "df = pd.DataFrame(data)\n",
    "df"
   ]
  },
  {
   "cell_type": "markdown",
   "metadata": {},
   "source": [
    "Este es la base para el manejo de datos con pandas."
   ]
  },
  {
   "cell_type": "markdown",
   "metadata": {},
   "source": [
    "### __1.3- Lectura y Escritura de Archivos de Datos__"
   ]
  },
  {
   "cell_type": "markdown",
   "metadata": {},
   "source": [
    "En _pandas_ se puede importar y exportar datos a archivos capaces de contener datos tabulares."
   ]
  },
  {
   "cell_type": "markdown",
   "metadata": {},
   "source": [
    "#### __A) CSVs__"
   ]
  },
  {
   "cell_type": "markdown",
   "metadata": {},
   "source": [
    "Los archivos `csv` son archivos de texto que almacenan datos tabulares, representando las filas por cada fila de texto y las columnas separando los datos por comas.\n",
    "\n",
    "Estos son útiles para trabajar con datos de manera rápida y eficiente, pues son mucho más ligeros que otro tipo de estructuras de tabla (como los .xslx)"
   ]
  },
  {
   "cell_type": "markdown",
   "metadata": {},
   "source": [
    "__i. Lectura un archivo csv__"
   ]
  },
  {
   "cell_type": "code",
   "execution_count": null,
   "metadata": {},
   "outputs": [],
   "source": [
    "# Leer un archivo CSV\n",
    "df = pd.read_csv('archivo.csv')"
   ]
  },
  {
   "cell_type": "markdown",
   "metadata": {},
   "source": [
    "- Parámetros de utilidad: \n",
    "    - ```sep=;```: Para cambiar el separador (muy útil para algunos csv en español)\n",
    "    - ```index_col='col1'```: Indicar si existe una columna indice (por defecto se crea una)\n",
    "    - ```header=None```: Indicar la fila donde están los títulos (por defecto es la primera / se puede agregar None para indicar que no tiene)\n",
    "    - ```usecols=[col1, col2, ...]```: Especificar columnas de entrada\n",
    "    - ```nrows=1000```: Especificar cantidad de filas de entrada\n",
    "    - ```na_values=['NA','--',...]```: Especifica valores que se interpretarán como nulos"
   ]
  },
  {
   "cell_type": "markdown",
   "metadata": {},
   "source": [
    "__ii. Creando un archivo csv__"
   ]
  },
  {
   "cell_type": "code",
   "execution_count": null,
   "metadata": {},
   "outputs": [],
   "source": [
    "# Escribir un archivo CSV\n",
    "df.to_csv('output.csv')"
   ]
  },
  {
   "cell_type": "markdown",
   "metadata": {},
   "source": [
    "- Parámetros de utilidad: \n",
    "    - ```sep=;```: Para cambiar el separador\n",
    "    - ```index=True```: Para indicar si exportar los índices\n",
    "    - ```header=True```: Para indicar si exportar los nombres de columna\n",
    "    - ```columns=[col1, col2, ...]```: Especificar columnas de salida\n",
    "    - ```na_rep='NA'```: Especificar representación para valores nulos\n",
    "    - ```float_format='2.f'```: Especifica formato para los decimales"
   ]
  },
  {
   "cell_type": "markdown",
   "metadata": {},
   "source": [
    "#### __B) XLSXs__"
   ]
  },
  {
   "cell_type": "markdown",
   "metadata": {},
   "source": [
    "Para trabajar con archivos compatibles con _Microsoft Excel_."
   ]
  },
  {
   "cell_type": "markdown",
   "metadata": {},
   "source": [
    "__i. Lectura un archivo xlsx__"
   ]
  },
  {
   "cell_type": "code",
   "execution_count": null,
   "metadata": {},
   "outputs": [],
   "source": [
    "# Leer un archivo Excel\n",
    "df = pd.read_excel('output.xlsx', index_col='Unnamed: 0', sheet_name=0)\n",
    "df"
   ]
  },
  {
   "cell_type": "markdown",
   "metadata": {},
   "source": [
    "- Parámetros de utilidad: \n",
    "    - ```sep=;``` : Para cambiar el separador (muy útil para algunos csv en español)\n",
    "    - ```index_col='col1'``` : Indicar si existe una columna indice (por defecto se crea una)\n",
    "    - ```header=2``` : Indicar la fila donde están los títulos (por defecto es la primera / se puede agregar None para indicar que no tiene)\n",
    "    - ```usecols=[col1, col2, ...]``` : Especificar columnas de entrada (en caso de excel puede utilizarse según las columnas de excel, por ejemplo 'A:D')\n",
    "    - ```nrows=1000``` : Especificar cantidad de filas de entrada\n",
    "    - ```sheet_name='hoja1'``` : Especifica la hoja a leerse (Puede indicarse por nombre, por índice o una lista d ehojas)\n",
    "    - ```skiprows=2``` : Indica una cantidad de filas para saltar (Si es que no contienen info útil)"
   ]
  },
  {
   "cell_type": "markdown",
   "metadata": {},
   "source": [
    "__ii. Creando un archivo xlsx__"
   ]
  },
  {
   "cell_type": "code",
   "execution_count": null,
   "metadata": {},
   "outputs": [],
   "source": [
    "# Excribir un archivo xlsx\n",
    "df.to_excel('output.xlsx')"
   ]
  },
  {
   "cell_type": "markdown",
   "metadata": {},
   "source": [
    "- Parámetros de utilidad: \n",
    "    - ```index=True``` : Para indicar si exportar los índices\n",
    "    - ```columns=[col1, col2, ...]``` : Especificar columnas de salida\n",
    "    - ```sheet_name='hoja1'``` : Especifica nombre de la hoja donde se alojarán los datos"
   ]
  },
  {
   "cell_type": "markdown",
   "metadata": {},
   "source": [
    "## __Capítulo 2 - Analizando datos con Pandas__"
   ]
  },
  {
   "cell_type": "markdown",
   "metadata": {},
   "source": [
    "La utilidad máxima de _pandas_ es poder trabajar grandes cantidades de datos de manera simple. A continuación se muestran algunas de las utilidades que se pueden lograr utilizando esta biblioteca."
   ]
  },
  {
   "cell_type": "markdown",
   "metadata": {},
   "source": [
    "### __2.1- Selección y Filtrado de Datos__"
   ]
  },
  {
   "cell_type": "markdown",
   "metadata": {},
   "source": [
    "Seleccionar columnas y filtrar datos es una de las tareas más comunes."
   ]
  },
  {
   "cell_type": "code",
   "execution_count": null,
   "metadata": {},
   "outputs": [],
   "source": [
    "datitos = df\n",
    "datitos"
   ]
  },
  {
   "cell_type": "code",
   "execution_count": null,
   "metadata": {},
   "outputs": [],
   "source": [
    "# Seleccionar una columna\n",
    "datitos['col2']"
   ]
  },
  {
   "cell_type": "code",
   "execution_count": null,
   "metadata": {},
   "outputs": [],
   "source": [
    "# Filtrar filas\n",
    "df[df['col2'] == 5]"
   ]
  },
  {
   "cell_type": "code",
   "execution_count": null,
   "metadata": {},
   "outputs": [],
   "source": [
    "# Seleccionar fila\n",
    "df.iloc[0]"
   ]
  },
  {
   "cell_type": "markdown",
   "metadata": {},
   "source": [
    "### __2.2- Estadísticas Básicas__"
   ]
  },
  {
   "cell_type": "markdown",
   "metadata": {},
   "source": [
    "Para obtener una descripción estadística de una o más variables"
   ]
  },
  {
   "cell_type": "code",
   "execution_count": null,
   "metadata": {},
   "outputs": [],
   "source": [
    "df"
   ]
  },
  {
   "cell_type": "code",
   "execution_count": null,
   "metadata": {},
   "outputs": [],
   "source": [
    "# Media de una columna\n",
    "df['col1'].mean()"
   ]
  },
  {
   "cell_type": "code",
   "execution_count": null,
   "metadata": {},
   "outputs": [],
   "source": [
    "df['col1'].std()"
   ]
  },
  {
   "cell_type": "code",
   "execution_count": null,
   "metadata": {},
   "outputs": [],
   "source": [
    "df['col1'].max()"
   ]
  },
  {
   "cell_type": "code",
   "execution_count": null,
   "metadata": {},
   "outputs": [],
   "source": [
    "df.max()"
   ]
  },
  {
   "cell_type": "markdown",
   "metadata": {},
   "source": [
    "### __2.3- Data Descriptiva__"
   ]
  },
  {
   "cell_type": "markdown",
   "metadata": {},
   "source": [
    "Se pueden obtener resúmenes predefinidos para describir el DataFrame."
   ]
  },
  {
   "cell_type": "code",
   "execution_count": null,
   "metadata": {},
   "outputs": [],
   "source": [
    "df.columns"
   ]
  },
  {
   "cell_type": "code",
   "execution_count": null,
   "metadata": {},
   "outputs": [],
   "source": [
    "df.index"
   ]
  },
  {
   "cell_type": "code",
   "execution_count": null,
   "metadata": {},
   "outputs": [],
   "source": [
    "df.shape"
   ]
  },
  {
   "cell_type": "code",
   "execution_count": null,
   "metadata": {},
   "outputs": [],
   "source": [
    "df.head()"
   ]
  },
  {
   "cell_type": "code",
   "execution_count": null,
   "metadata": {},
   "outputs": [],
   "source": [
    "df.tail()"
   ]
  },
  {
   "cell_type": "code",
   "execution_count": null,
   "metadata": {},
   "outputs": [],
   "source": [
    "df.info() # Destacado"
   ]
  },
  {
   "cell_type": "code",
   "execution_count": null,
   "metadata": {},
   "outputs": [],
   "source": [
    "df.describe() # Destacado 2"
   ]
  },
  {
   "cell_type": "markdown",
   "metadata": {},
   "source": [
    "### __2.4- Agregación de Datos__"
   ]
  },
  {
   "cell_type": "code",
   "execution_count": null,
   "metadata": {},
   "outputs": [],
   "source": [
    "df = pd.DataFrame({'Estudiante': ['Ana', 'Luis', 'María'],\n",
    "                   'Calificación': [85, 78, 92],\n",
    "                   'Año': [2019, 2019, 2020],\n",
    "                   }\n",
    "                   )\n",
    "df"
   ]
  },
  {
   "cell_type": "code",
   "execution_count": null,
   "metadata": {},
   "outputs": [],
   "source": [
    "# Agrupar por columna y calcular la media\n",
    "df.groupby('Año').agg({'Calificación':'mean'}) # otros métodos: max,  min, std, sum, count, etc."
   ]
  },
  {
   "cell_type": "markdown",
   "metadata": {},
   "source": [
    "## __Capítulo 3 - Manipulando datos con Pandas__"
   ]
  },
  {
   "cell_type": "markdown",
   "metadata": {},
   "source": [
    "### __3.1- Manipulación Básica__"
   ]
  },
  {
   "cell_type": "code",
   "execution_count": null,
   "metadata": {},
   "outputs": [],
   "source": [
    "# Agregar una nueva columna\n",
    "df['new_col'] = df['Calificación'] * 2\n",
    "df"
   ]
  },
  {
   "cell_type": "code",
   "execution_count": null,
   "metadata": {},
   "outputs": [],
   "source": [
    "# Eliminar una columna\n",
    "df.drop('new_col', axis=1, inplace=True)\n",
    "df"
   ]
  },
  {
   "cell_type": "code",
   "execution_count": null,
   "metadata": {},
   "outputs": [],
   "source": [
    "df['Calificación'].sort_values(ascending=False)\n",
    "df"
   ]
  },
  {
   "cell_type": "code",
   "execution_count": null,
   "metadata": {},
   "outputs": [],
   "source": [
    "df.drop(index=2)  # Eliminar fila - Este no sobreescribe la tabla original"
   ]
  },
  {
   "cell_type": "markdown",
   "metadata": {},
   "source": [
    "### __3.2- Manejo de Datos Nulos__"
   ]
  },
  {
   "cell_type": "markdown",
   "metadata": {},
   "source": [
    "Manejar datos nulos es parte fundamental para la comprensión adecuada de los datos."
   ]
  },
  {
   "cell_type": "code",
   "execution_count": null,
   "metadata": {},
   "outputs": [],
   "source": [
    "# Detectar valores nulos\n",
    "df.isnull()"
   ]
  },
  {
   "cell_type": "code",
   "execution_count": null,
   "metadata": {},
   "outputs": [],
   "source": [
    "# Rellenar valores nulos\n",
    "df.fillna(0)"
   ]
  },
  {
   "cell_type": "code",
   "execution_count": null,
   "metadata": {},
   "outputs": [],
   "source": [
    "# Quitar valores nulos\n",
    "df.dropna()"
   ]
  },
  {
   "cell_type": "markdown",
   "metadata": {},
   "source": [
    "### __3.3- Manipulación Filtrada__"
   ]
  },
  {
   "cell_type": "code",
   "execution_count": null,
   "metadata": {},
   "outputs": [],
   "source": [
    "df.loc[df[\"Calificación\"] > 80, \"Calificación\"] = 100\n",
    "df"
   ]
  },
  {
   "cell_type": "markdown",
   "metadata": {},
   "source": [
    "### __3.4- Funciones Complejas sobre Datos__"
   ]
  },
  {
   "cell_type": "markdown",
   "metadata": {},
   "source": [
    "Algunas veces querremos manejar los datos con funciones más complejas que una simple operatoria, como por ejemplo, para cálcular proporciones, transformar unidades, etc."
   ]
  },
  {
   "cell_type": "markdown",
   "metadata": {},
   "source": [
    "#### __A) Funciones Lambda__"
   ]
  },
  {
   "cell_type": "code",
   "execution_count": null,
   "metadata": {},
   "outputs": [],
   "source": [
    "df"
   ]
  },
  {
   "cell_type": "code",
   "execution_count": null,
   "metadata": {},
   "outputs": [],
   "source": [
    "df['Calificación'].apply(lambda x: x*2) # Crea solo la serie y no sobreescribe"
   ]
  },
  {
   "cell_type": "code",
   "execution_count": null,
   "metadata": {},
   "outputs": [],
   "source": [
    "df['Calificación x 2'] = df['Calificación'].apply(lambda x: x*2)\n",
    "df"
   ]
  },
  {
   "cell_type": "code",
   "execution_count": null,
   "metadata": {},
   "outputs": [],
   "source": [
    "df['Calificación x 2'].apply(lambda x: x*10 if x>180 else x)"
   ]
  },
  {
   "cell_type": "code",
   "execution_count": null,
   "metadata": {},
   "outputs": [],
   "source": [
    "df.apply(lambda fila: fila['Calificación'] + fila['Calificación x 2'], axis=1)"
   ]
  },
  {
   "cell_type": "markdown",
   "metadata": {},
   "source": [
    "#### __B) Funciones Generales__"
   ]
  },
  {
   "cell_type": "code",
   "execution_count": null,
   "metadata": {},
   "outputs": [],
   "source": [
    "def factorial(n):\n",
    "    factorial = n\n",
    "    for i in range(1,n):\n",
    "        factorial *= i\n",
    "    return factorial\n",
    "\n",
    "factorial(4)"
   ]
  },
  {
   "cell_type": "code",
   "execution_count": null,
   "metadata": {},
   "outputs": [],
   "source": [
    "pd.Series([1,2,3,4]).apply(factorial)"
   ]
  },
  {
   "cell_type": "markdown",
   "metadata": {},
   "source": [
    "#### __C) Mapeo__"
   ]
  },
  {
   "cell_type": "markdown",
   "metadata": {},
   "source": [
    "Es posible 're-mappear' datos de manera sencilla utilizando diccionarios que indican la transformación esperada."
   ]
  },
  {
   "cell_type": "code",
   "execution_count": null,
   "metadata": {},
   "outputs": [],
   "source": [
    "mapeo = {1:'a',2:'z',3:'c'}"
   ]
  },
  {
   "cell_type": "code",
   "execution_count": null,
   "metadata": {},
   "outputs": [],
   "source": [
    "pd.Series([1,2,3,4]).map(mapeo)"
   ]
  },
  {
   "cell_type": "code",
   "execution_count": null,
   "metadata": {},
   "outputs": [],
   "source": [
    "df = pd.DataFrame(pd.Series([1,2,3,4]))\n",
    "df"
   ]
  },
  {
   "cell_type": "code",
   "execution_count": null,
   "metadata": {},
   "outputs": [],
   "source": [
    "df['col_str'] = df[0].map(mapeo)\n",
    "df"
   ]
  },
  {
   "cell_type": "markdown",
   "metadata": {},
   "source": [
    "## __Capítulo 4 - Uniendo DataFrames__"
   ]
  },
  {
   "cell_type": "markdown",
   "metadata": {},
   "source": [
    "#### __4.1- Concatenación__"
   ]
  },
  {
   "cell_type": "markdown",
   "metadata": {},
   "source": [
    "La concatenación refiere a la acción de insertar los datos bruzcamente sobre, bajo o al lado de una tabla desde otra."
   ]
  },
  {
   "cell_type": "code",
   "execution_count": null,
   "metadata": {},
   "outputs": [],
   "source": [
    "# data de ejemplo 1\n",
    "df1 = pd.DataFrame({'Nombre':['Alonso','Esteban','Pablo','Rodrigo'],'Ingreso':[1200,300,1500,600]})\n",
    "df1"
   ]
  },
  {
   "cell_type": "code",
   "execution_count": null,
   "metadata": {},
   "outputs": [],
   "source": [
    "# data de ejemplo 2\n",
    "df2 = pd.DataFrame({'Nombre':['Alonso','Esteban','Pablo','Rodrigo','Patricio'],'Ciudad':['San Pedro','Concepción','Concepción','Talcahuano','San Pedro']})\n",
    "df2"
   ]
  },
  {
   "cell_type": "code",
   "execution_count": null,
   "metadata": {},
   "outputs": [],
   "source": [
    "pd.concat([df1, df2]) # pone uno sobbajore el otro y no agrega datos si la columna no existe"
   ]
  },
  {
   "cell_type": "code",
   "execution_count": null,
   "metadata": {},
   "outputs": [],
   "source": [
    "pd.concat([df1, df2], axis=1) # Al cambiar el eje, agrega de manera bruzca una tabla al lado de la otra"
   ]
  },
  {
   "cell_type": "markdown",
   "metadata": {},
   "source": [
    "#### __4.2- Fusión__"
   ]
  },
  {
   "cell_type": "markdown",
   "metadata": {},
   "source": [
    "El ``merge` es una fusión compleja y más intelgente que une las tablas a partir de cierta(s) columna(s) en común y por algún método de unión."
   ]
  },
  {
   "cell_type": "code",
   "execution_count": null,
   "metadata": {},
   "outputs": [],
   "source": [
    "# Unir DataFrames por una columna\n",
    "df_merged = pd.merge(df1, df2, on='Nombre', how='inner') # tiene parametros: on='columna' y how='inner' | 'outer' | 'left' | 'right' | 'cross'\n",
    "df_merged # Los une en un mismo dataframe"
   ]
  },
  {
   "cell_type": "markdown",
   "metadata": {},
   "source": [
    "## __Capítulo 5 - Tidy Data__"
   ]
  },
  {
   "cell_type": "markdown",
   "metadata": {},
   "source": [
    "En este formato, los datos siguen tres principios clave:\n",
    "1. **Cada variable se almacena en una columna**: Cada atributo o característica de los datos es una columna diferente. Por ejemplo, si estás trabajando con un conjunto de datos sobre ventas, podrías tener columnas como \"Producto\", \"Fecha\", \"Cantidad\", \"Precio\", etc.\n",
    "2. **Cada observación está en una fila**: Cada fila representa una única observación o entrada. Por ejemplo, una fila podría representar una transacción o una venta específica de un producto en un día determinado.\n",
    "3. **Cada tipo de unidad de observación tiene su propio archivo o tabla**: Si tienes múltiples tipos de datos relacionados (como datos de clientes y datos de ventas), cada tipo de entidad se almacena en su propio conjunto de datos. Por ejemplo, podrías tener una tabla para clientes y otra para ventas."
   ]
  },
  {
   "cell_type": "markdown",
   "metadata": {},
   "source": [
    "Veamos un ejemplo:"
   ]
  },
  {
   "cell_type": "code",
   "execution_count": null,
   "metadata": {},
   "outputs": [],
   "source": [
    "data = {\n",
    "    'Estudiante': ['Ana', 'Luis', 'María'],\n",
    "    'Matemáticas_2021': [85, 78, 92],\n",
    "    'Historia_2021': [88, 74, 85],\n",
    "    'Ciencias_2021': [90, 80, 88],\n",
    "    'Matemáticas_2022': [89, 82, 95],\n",
    "    'Historia_2022': [90, 77, 91],\n",
    "    'Ciencias_2022': [92, 84, 94],\n",
    "}\n",
    "\n",
    "df_no_tidy = pd.DataFrame(data)\n",
    "df_no_tidy"
   ]
  },
  {
   "cell_type": "markdown",
   "metadata": {},
   "source": [
    "- Estos datos no cumplen con las condiciones de un formato tidy, por lo que para un mejor manejo deberá ser modificada la tabla."
   ]
  },
  {
   "cell_type": "markdown",
   "metadata": {},
   "source": [
    "### __5.1- Función Melt__"
   ]
  },
  {
   "cell_type": "markdown",
   "metadata": {},
   "source": [
    "La función `melt` permite traspasar una tabla de formato desordenado a uno _tidy_ de manera sencilla indicando cuáles son la variable de observación, como se llamará la nueva variable y qué valor se medirá."
   ]
  },
  {
   "cell_type": "code",
   "execution_count": null,
   "metadata": {},
   "outputs": [],
   "source": [
    "# Reordenandolo: MELT\n",
    "df_tidy = df_no_tidy.melt(id_vars=['Estudiante'], var_name='Asignatura', value_name='nota')\n",
    "df_tidy"
   ]
  },
  {
   "cell_type": "code",
   "execution_count": null,
   "metadata": {},
   "outputs": [],
   "source": [
    "# más bonito \n",
    "df_tidy2 = df_tidy.copy()\n",
    "df_tidy2[['Asignatura', 'Año']] = df_tidy['Asignatura'].str.split('_', expand=True) # parametro expand permite dividirse en columnas\n",
    "df_tidy2 = df_tidy2[['Estudiante','Año','Asignatura','nota']] # Nuevo órden\n",
    "df_tidy2 = df_tidy2.rename(columns={'nota': 'Nota'}) # Nuevo nombre\n",
    "df_tidy2"
   ]
  },
  {
   "cell_type": "markdown",
   "metadata": {},
   "source": [
    "### __5.2- Función Pivot__"
   ]
  },
  {
   "cell_type": "markdown",
   "metadata": {},
   "source": [
    "Función contraria al `melt`."
   ]
  },
  {
   "cell_type": "code",
   "execution_count": null,
   "metadata": {},
   "outputs": [],
   "source": [
    "# Proceso contrario: PIVOT\n",
    "df_no_tidy = df_tidy.pivot(index='Estudiante',columns=['Asignatura'],values='nota').reset_index()\n",
    "df_no_tidy"
   ]
  }
 ],
 "metadata": {
  "kernelspec": {
   "display_name": ".venv",
   "language": "python",
   "name": "python3"
  },
  "language_info": {
   "codemirror_mode": {
    "name": "ipython",
    "version": 3
   },
   "file_extension": ".py",
   "mimetype": "text/x-python",
   "name": "python",
   "nbconvert_exporter": "python",
   "pygments_lexer": "ipython3",
   "version": "3.12.3"
  }
 },
 "nbformat": 4,
 "nbformat_minor": 4
}
