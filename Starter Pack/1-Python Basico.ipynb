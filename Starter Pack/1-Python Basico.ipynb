{
 "cells": [
  {
   "cell_type": "markdown",
   "metadata": {},
   "source": [
    "# Programación Básica Utilizando Python"
   ]
  },
  {
   "cell_type": "markdown",
   "metadata": {},
   "source": [
    "__Autor__: Gabriel Burgos S."
   ]
  },
  {
   "cell_type": "markdown",
   "metadata": {},
   "source": [
    "__En este _jupyter notebook_ aprenderás los conceptos básicos para poder comenzar a trabajar con _python_, comenzando por los tipos de datos y definición de variables hasta la definición y uso de funciones.__\n",
    "\n",
    "[*] ___Nota__: Este es un repaso muy resumido. Para un aprendizaje más integral recomiendo complementar este material con ejercicio y estudio personal más extensivo y en mayor profundidad._"
   ]
  },
  {
   "cell_type": "code",
   "execution_count": null,
   "metadata": {},
   "outputs": [],
   "source": []
  },
  {
   "cell_type": "markdown",
   "metadata": {},
   "source": [
    "## __Capitulo 1 - Conceptos Básicos__"
   ]
  },
  {
   "cell_type": "markdown",
   "metadata": {
    "vscode": {
     "languageId": "plaintext"
    }
   },
   "source": [
    "### __1.1- Tipos de datos y variables__"
   ]
  },
  {
   "cell_type": "markdown",
   "metadata": {},
   "source": [
    "| Tipo | Descripción | Ejemplo |\n",
    "|--|--|--|\n",
    "| ```int``` | Número entero | ```3```, ```25```, ```17```, etc. |\n",
    "| ```float``` | Número con décimales | ```3.1```, ```25.0```, ```1.234```, etc. |\n",
    "| ```str``` | Cadena de caractéres | ```'Hola'```  o  ```'Hola'``` |\n",
    "| ```Booleans``` | Valor binario | ```True``` / ```False```|\n",
    "\n",
    "NOTAS\n",
    "- En _python_ se reconocen automáticamente por defecto.\n",
    "- Pueden ser revisadas con la función ```type(<var>)```\n",
    "- Pueden ser transformados"
   ]
  },
  {
   "cell_type": "markdown",
   "metadata": {},
   "source": [
    "En python los datos pueden ser almacenados en variables para poder ser ocupados posteriormente. Para ello se utiliza la asignaciónm ```=```:"
   ]
  },
  {
   "cell_type": "code",
   "execution_count": null,
   "metadata": {},
   "outputs": [],
   "source": [
    "a = 1\n",
    "b = 2\n",
    "\n",
    "a + b"
   ]
  },
  {
   "cell_type": "markdown",
   "metadata": {},
   "source": [
    "#### Ejemplos con tipos de datos y variables"
   ]
  },
  {
   "cell_type": "code",
   "execution_count": 1,
   "metadata": {},
   "outputs": [
    {
     "name": "stdout",
     "output_type": "stream",
     "text": [
      "<class 'int'>\n",
      "<class 'str'>\n",
      "<class 'bool'>\n"
     ]
    }
   ],
   "source": [
    "# Tipos de datos\n",
    "print(type(1))\n",
    "print(type('hola'))\n",
    "print(type(True))"
   ]
  },
  {
   "cell_type": "code",
   "execution_count": 2,
   "metadata": {},
   "outputs": [
    {
     "name": "stdout",
     "output_type": "stream",
     "text": [
      "1 <class 'int'>\n",
      "hola <class 'str'>\n",
      "True <class 'bool'>\n"
     ]
    }
   ],
   "source": [
    "# Variables\n",
    "a = 1\n",
    "b = 'hola'\n",
    "c = True\n",
    "\n",
    "print(a, type(a))\n",
    "print(b, type(b))\n",
    "print(c, type(c))"
   ]
  },
  {
   "cell_type": "code",
   "execution_count": null,
   "metadata": {},
   "outputs": [],
   "source": [
    "# Transformando variables\n",
    "a2 = str(a)\n",
    "a3 = float(a)\n",
    "\n",
    "print(a2, type(a2))\n",
    "print(a3, type(a3))"
   ]
  },
  {
   "cell_type": "markdown",
   "metadata": {},
   "source": [
    "Ojo, que las variables solo se pueden transformar a tipos de variables compatibles. Por ejemplo, ```1``` se puede transformar a ```str```, pero ```'Hola'``` no a ```int```."
   ]
  },
  {
   "cell_type": "markdown",
   "metadata": {},
   "source": [
    "### __1.2- Funciones integradas útiles__"
   ]
  },
  {
   "cell_type": "markdown",
   "metadata": {},
   "source": [
    "| Función | Uso |\n",
    "|---|---|\n",
    "| ```print()``` | Despliega la información para que el usuario pueda observarlo |\n",
    "| ```input()``` | Permite ingresar una entrada al usuario en forma de string |"
   ]
  },
  {
   "cell_type": "markdown",
   "metadata": {},
   "source": [
    "#### Ejemplos con print e input"
   ]
  },
  {
   "cell_type": "code",
   "execution_count": null,
   "metadata": {},
   "outputs": [],
   "source": [
    "# Ejemplos de print\n",
    "print('hola')\n",
    "print(1)\n",
    "print(True)\n",
    "print('hola', 1, True)\n",
    "print('hola' + ' ' + 'mundo')\n",
    "print('hola' + ' ' + str(1))"
   ]
  },
  {
   "cell_type": "code",
   "execution_count": 3,
   "metadata": {},
   "outputs": [
    {
     "name": "stdout",
     "output_type": "stream",
     "text": [
      "El número elegido es 6\n"
     ]
    }
   ],
   "source": [
    "# Ejemplos de input\n",
    "\n",
    "a = input('Ingrese un número: ')\n",
    "print('El número elegido es', a)"
   ]
  },
  {
   "cell_type": "markdown",
   "metadata": {},
   "source": [
    "### __1.2.b- Print Avanzado (Extra)__"
   ]
  },
  {
   "cell_type": "markdown",
   "metadata": {},
   "source": [
    "#### 1.2.b.i. Parámetros de Print\n"
   ]
  },
  {
   "cell_type": "markdown",
   "metadata": {},
   "source": [
    "La función ```print()``` además de poder contener variables puede ser modificada con __parámetros__, tal que ```print(<vars>, param=<atr>)```, como por ejemplo:"
   ]
  },
  {
   "cell_type": "markdown",
   "metadata": {},
   "source": [
    "- __Parametro ```sep='<>'```:__ Sirve para declarar una nueva separación entre variables que no sea un espacio. "
   ]
  },
  {
   "cell_type": "code",
   "execution_count": null,
   "metadata": {},
   "outputs": [],
   "source": [
    "# EJEMPLO SEP\n",
    "separador = \"  ---  \"\n",
    "print('Forma 1')\n",
    "print(1,2,3,4)\n",
    "print('Forma 2')\n",
    "print(1,2,3,4,sep=separador)"
   ]
  },
  {
   "cell_type": "markdown",
   "metadata": {},
   "source": [
    "- __Parametro ```end='<>'```:__ Sirve para declarar un nuevo final para el despliegue que no sea un salto de linea. "
   ]
  },
  {
   "cell_type": "code",
   "execution_count": null,
   "metadata": {},
   "outputs": [],
   "source": [
    "# Forma 1\n",
    "print('Forma 1')\n",
    "print(1) # 1\n",
    "print(2) # 2\n",
    "print(3) # 3\n",
    "print('Forma 2')\n",
    "final = \" \"\n",
    "print(1,end=final)\n",
    "print(2,end=final)\n",
    "print(3,end=final)"
   ]
  },
  {
   "cell_type": "markdown",
   "metadata": {},
   "source": [
    "#### 1.2.b.ii. Print con f-strings\n"
   ]
  },
  {
   "cell_type": "markdown",
   "metadata": {},
   "source": [
    "Los __f-strings__ son una manera simple de insertar una variable en un string tan solo utilizando _\"{}\"_. Para utilizarlos simplemente se debe añadir un \"f\" antes de las comillas, tal que ```f'<string>'```.\n",
    "\n",
    "Esto es de especial utilidad para mensajes en print, pues sirve para ordenar los mensajes desplegados de manera mucho más práctica."
   ]
  },
  {
   "cell_type": "code",
   "execution_count": null,
   "metadata": {},
   "outputs": [],
   "source": [
    "litros = 1000\n",
    "mensaje = f'El tanque tiene {litros} litros de combustible'\n",
    "print(mensaje)"
   ]
  },
  {
   "cell_type": "markdown",
   "metadata": {},
   "source": [
    "### __1.3- Operadores__"
   ]
  },
  {
   "cell_type": "markdown",
   "metadata": {},
   "source": [
    "Es posible operar entre números (```ìnt``` y ```float```) utilizando símbolos especiales para ello:"
   ]
  },
  {
   "cell_type": "markdown",
   "metadata": {},
   "source": [
    "| Operador | Símbolo | Uso | Ejemplo |\n",
    "|--|--|--|--|\n",
    "| Suma  | ```+``` | Sumar 2 números| ```1+1```   -$ \\rightarrow$ ```2``` |\n",
    "| Resta | ```-``` | Restar 1 número a otro | ```1-1```   -$ \\rightarrow$ ```0``` |\n",
    "| Multiplicación | ```*``` | Multiplica 2 factores | ```1*1```   -$ \\rightarrow$ ```1``` |\n",
    "| División | ```/``` | Divide un número con otro | ```3/2```   -$ \\rightarrow$ ```1.5``` |\n",
    "| Potencia | ```**``` | Realiza una potencia entre los operandos | ```3**2```   -$ \\rightarrow$ ```9``` |\n",
    "| División Entera | ```//``` | Divide un número con otro, retornando _solo la parte entera del resultado_ | ```3//2```   -$ \\rightarrow$ ```1``` |\n",
    "| Módulo | ```\\%``` | Retorna _el resto_ de una división entre 2 operandos | ```16\\%3```   -$ \\rightarrow$ ```1``` |"
   ]
  },
  {
   "cell_type": "code",
   "execution_count": null,
   "metadata": {},
   "outputs": [],
   "source": [
    "A = 20\n",
    "B = 10\n",
    "# 1\n",
    "print('suma        :', A+B)\n",
    "# 2\n",
    "print('resta       :', A - B)\n",
    "# 3\n",
    "print('multip      :', A * B)\n",
    "# 4\n",
    "print('divis       :', A / B)\n",
    "# 5\n",
    "print('potencia    :', A**2)\n",
    "# 6\n",
    "print('divis_entera:', A//12)\n",
    "# 7\n",
    "print('modulo      :', A%12) "
   ]
  },
  {
   "cell_type": "markdown",
   "metadata": {},
   "source": [
    ", si estos operadores se ocupan con variables ```string``` entonces tambien existen algunas operaciones:"
   ]
  },
  {
   "cell_type": "code",
   "execution_count": null,
   "metadata": {},
   "outputs": [],
   "source": [
    "st = 'Hola'\n",
    "st2 = 'Mundo'\n",
    "num = 2\n",
    "\n",
    "print(st+' '+st2)\n",
    "print(st*num)\n",
    "print(st+str(num))"
   ]
  },
  {
   "cell_type": "markdown",
   "metadata": {},
   "source": [
    "Ojo que las operaciones deben ser entre tipos compatibles. Por ejemplo, ```<str> + <str>``` es compatible, pero ```<str> + <int>``` no."
   ]
  },
  {
   "cell_type": "markdown",
   "metadata": {},
   "source": [
    "## __Capitulo 2 - Estructuras de Control__"
   ]
  },
  {
   "cell_type": "markdown",
   "metadata": {},
   "source": [
    "### __2.1- Estructuras de Control I: Condicionales__"
   ]
  },
  {
   "cell_type": "markdown",
   "metadata": {},
   "source": [
    "Una estructura condicional consiste en una estructura que permite ejecutar un __bloque de código__ si la __condición__ es verdadera.\n",
    "\n",
    "Este se compone de dos partes:\n",
    "1. __Condición__: línea que especifica una relación que se debe validar como verdadera para ejecutar el bloque.\n",
    "2. __Bloque__: Código que se ejecutará si la condición es correcta."
   ]
  },
  {
   "cell_type": "markdown",
   "metadata": {},
   "source": [
    "Para trabajar con condiciones se deben conocer los siguientes conceptos:"
   ]
  },
  {
   "cell_type": "markdown",
   "metadata": {},
   "source": [
    "#### __A) Operadores Relacionales__"
   ]
  },
  {
   "cell_type": "markdown",
   "metadata": {},
   "source": [
    "Operadores reservados para comparar dos variables y entregar como resultado un ```bool``` indicando si la relación es verdadera o falsa."
   ]
  },
  {
   "cell_type": "markdown",
   "metadata": {},
   "source": [
    "|Relacion|Simbolo|Ejemplo|\n",
    "|--|--|--|\n",
    "|Mayor que|```>```|```1>2``` $\\ \\rightarrow$ ```False```|\n",
    "|Menor que|```<```|```1<2``` $\\ \\rightarrow$ ```True```|\n",
    "|Mayor o igual que| ```>=```| ```1>=1 ``` $\\ \\rightarrow$ ```True```|\n",
    "|Menor o igual que| ```<=```| ```1<=1 ``` $\\ \\rightarrow$ ```True```|\n",
    "|Igual a| ```==```| ```1==2``` $\\ \\rightarrow$ ```False```|\n",
    "|Distinto de| ```!=```|```1!=2``` $\\ \\rightarrow$ ```True```|"
   ]
  },
  {
   "cell_type": "code",
   "execution_count": null,
   "metadata": {},
   "outputs": [],
   "source": [
    "1 > 2"
   ]
  },
  {
   "cell_type": "code",
   "execution_count": null,
   "metadata": {},
   "outputs": [],
   "source": [
    "'Hola' == 'Hola'"
   ]
  },
  {
   "cell_type": "code",
   "execution_count": null,
   "metadata": {},
   "outputs": [],
   "source": [
    "'hola' == 'Hola'"
   ]
  },
  {
   "cell_type": "markdown",
   "metadata": {},
   "source": [
    "Al igual que con las operaciones de otro tipo, se debe cumplir una compatibilidad entre las variables comparadas."
   ]
  },
  {
   "cell_type": "markdown",
   "metadata": {},
   "source": [
    "#### __B) Operadores Lógicos__"
   ]
  },
  {
   "cell_type": "markdown",
   "metadata": {},
   "source": [
    "Para operaciones lógicas más complejas."
   ]
  },
  {
   "cell_type": "markdown",
   "metadata": {},
   "source": [
    "|Operador|Descripción| Ejemplo |\n",
    "|--|--|--|\n",
    "|```and```|Se valida si ambas condiciones son verdaderas| ```1>2 and 1==1``` $\\rightarrow$ ```False``` |\n",
    "|```or```|Se valida si una de las condiciones es verdadera| ```1>2 or 1==1``` $\\rightarrow$ ```True``` |\n",
    "|```not```|Se valida si la condición es falsa| ```not 1>2``` $\\rightarrow$ ```True``` |"
   ]
  },
  {
   "cell_type": "code",
   "execution_count": null,
   "metadata": {},
   "outputs": [],
   "source": [
    "a = int(input('Ingrese un numero entre 10 y 2: '))\n",
    "\n",
    "a > 2 and a < 10"
   ]
  },
  {
   "cell_type": "markdown",
   "metadata": {},
   "source": [
    "#### __C) Estructuras de Control__"
   ]
  },
  {
   "cell_type": "markdown",
   "metadata": {},
   "source": [
    "Finalmente, para poder general las estructuras condicionales, se requiere un bloque condcional ```ìf:``` y otro bloque _identado_ el cuál indicará la acción sujeta a la condición:"
   ]
  },
  {
   "cell_type": "code",
   "execution_count": null,
   "metadata": {},
   "outputs": [],
   "source": [
    "n = int(input('Ingrese un numero: '))\n",
    "\n",
    "if n > 2:\n",
    "    print('El numero es mayor a 2')\n",
    "else: \n",
    "    # Bloque que se ejecuta al no cumplir la condicion\n",
    "\tprint('El numero es menor a 2')"
   ]
  },
  {
   "cell_type": "markdown",
   "metadata": {},
   "source": [
    "Aparte de ```if``` y ```else``` existe la expresión ```elif``` la cual permite agregar condiciones extra en el _complemento_ de la primera condición:"
   ]
  },
  {
   "cell_type": "code",
   "execution_count": null,
   "metadata": {},
   "outputs": [],
   "source": [
    "# Ejemplo de uso de elif\n",
    "\n",
    "n = int(input('Ingrese un numero: '))\n",
    "\n",
    "if n > 2:\n",
    "\tprint('El numero es mayor a 2')\n",
    "elif n == 2:\n",
    "\tprint('El numero es igual a 2')\n",
    "else:\n",
    "\tprint('El numero es menor a 2')"
   ]
  },
  {
   "cell_type": "markdown",
   "metadata": {},
   "source": [
    "Notar como, en _python_ las estructuras de control ocupan la _identación_ como forma de distinguir los bloques anidados."
   ]
  },
  {
   "cell_type": "markdown",
   "metadata": {},
   "source": [
    "### __2.2- Estructuras de Control II: Ciclos__"
   ]
  },
  {
   "cell_type": "markdown",
   "metadata": {},
   "source": [
    "Las estructuras de ciclo, como su nombre indica, buscan repetir un (o más) bloques de código una cantidad _necesaria_ de veces.\n",
    "\n",
    "Para ello, existen dos estructuras de utilidad:\n",
    "|Estructura|Descripción|\n",
    "|----------|-----------|\n",
    "| ```while``` | La estructura \"while\" repite el bloquea una __cantidad indeterminada__ de veces, donde no se detendrá el ciclo hasta cumplir con una condición. |\n",
    "|```for```|La estructura \"for\" repite el bloque una __cantidad determinada__ de veces, a partir de una variable que tomará ordenadamente valores de un __objeto__ asignado. Este objeto puede ser una lista, un string, un _constructor range_, entre otros. |"
   ]
  },
  {
   "cell_type": "code",
   "execution_count": null,
   "metadata": {},
   "outputs": [],
   "source": [
    "# Ciclo determinado\n",
    "\n",
    "i = 0 # contador\n",
    "final = 35 # condicion de término\n",
    "\n",
    "print(i)\n",
    "while i != final:\n",
    "    i+= 1\n",
    "    print(i, end=' - ')\n",
    "print(f\"\\nLlegamos a {final} !\")"
   ]
  },
  {
   "cell_type": "code",
   "execution_count": null,
   "metadata": {},
   "outputs": [],
   "source": [
    "# Ciclo condicional\n",
    "esperado = \"Hola\"\n",
    "entrada = input(f\"Ingrese {esperado}:\")\n",
    "while entrada != esperado:\n",
    "    print(f'ERROR: Debe ingresar {esperado}.')\n",
    "    entrada = input(\"Intente nuevamente:\")\n",
    "print('\\nCorrecto!')"
   ]
  },
  {
   "cell_type": "code",
   "execution_count": null,
   "metadata": {},
   "outputs": [],
   "source": [
    "# EJEMPLO For\n",
    "for i in range(5):\n",
    "    print(f'Hola {i}')"
   ]
  },
  {
   "cell_type": "markdown",
   "metadata": {},
   "source": [
    "### __2.2.b- Constructor Range (Extra)__"
   ]
  },
  {
   "cell_type": "markdown",
   "metadata": {},
   "source": [
    "```range()``` en python es el constructor de un objeto iterable que creará una secuencia de números según los parámetros que se le indique.\n",
    "\n",
    "Este tiene 3 parámetros: ```range(<inicio>,<fin>,<salto>)```\n",
    "- __Inicio__: Indica el inicio de la secuencia de números. Si no se específica, por defecto será ```0```.\n",
    "- __Fin__: Indica cuál será el final de la secuencia (no se toma este número). Si se ingresa un solo número se modificará este parámetro. Por ejemplo, ```range(10)``` indica que el ```fin=10``` con ```inicio=0```.\n",
    "- __Salto__: Indica el número de salto en la secuencia. Si no se especifica, por defecto será ```1```.\n"
   ]
  },
  {
   "cell_type": "code",
   "execution_count": null,
   "metadata": {},
   "outputs": [],
   "source": [
    "# Range como objeto\n",
    "print(range(10))"
   ]
  },
  {
   "cell_type": "code",
   "execution_count": 4,
   "metadata": {},
   "outputs": [
    {
     "name": "stdout",
     "output_type": "stream",
     "text": [
      "0, 1, 2, 3, 4, 5, 6, 7, 8, 9, "
     ]
    }
   ],
   "source": [
    "# Range con un solo parámetro\n",
    "for i in range(10):\n",
    "    print(i,end=\", \")"
   ]
  },
  {
   "cell_type": "code",
   "execution_count": 5,
   "metadata": {},
   "outputs": [
    {
     "name": "stdout",
     "output_type": "stream",
     "text": [
      "2, 3, 4, 5, 6, 7, 8, 9, "
     ]
    }
   ],
   "source": [
    "# Range con dos parámetros\n",
    "for i in range(2,10):\n",
    "    print(i,end=\", \")"
   ]
  },
  {
   "cell_type": "code",
   "execution_count": 6,
   "metadata": {},
   "outputs": [
    {
     "name": "stdout",
     "output_type": "stream",
     "text": [
      "2, 5, 8, 11, 14, 17, 20, 23, "
     ]
    }
   ],
   "source": [
    "# Range con tres parámetros\n",
    "for i in range(2,24,3):\n",
    "    print(i,end=\", \")"
   ]
  },
  {
   "cell_type": "code",
   "execution_count": null,
   "metadata": {},
   "outputs": [],
   "source": [
    "# Caso interesante\n",
    "for i in range(5,0,-1):\n",
    "    print(i)"
   ]
  },
  {
   "cell_type": "markdown",
   "metadata": {},
   "source": [
    "## __Capitulo 3 - Definiendo Funciones__"
   ]
  },
  {
   "cell_type": "markdown",
   "metadata": {},
   "source": [
    "Las funciones son maneras de resumir bloques de código con entradas y salidas en específico.\n",
    "\n",
    "Las funciones tienen 2 palabras reservadas:\n",
    "- ```def <funcion>(<parametro1>, <parametro2>, ...)```: Utilizado para definir una función con sus respectivos paráetros de entrada. La cantidad de parámetros de entrada es indefinida.\n",
    "- ```return <salida>```: Utiizado al final de una función para identificar el __término de una función__ y especificar su salida."
   ]
  },
  {
   "cell_type": "markdown",
   "metadata": {},
   "source": [
    "### __3.1- Ejemplos de funciones__"
   ]
  },
  {
   "cell_type": "markdown",
   "metadata": {},
   "source": [
    "#### a. Función sin salida ni entrada:"
   ]
  },
  {
   "cell_type": "code",
   "execution_count": null,
   "metadata": {},
   "outputs": [],
   "source": [
    "# Definiendo función\n",
    "def escribir_hola_2_veces():\n",
    "    print('hola')\n",
    "    print('hola')\n",
    "\n",
    "# Programa principal\n",
    "escribir_hola_2_veces() # Llamado a la función"
   ]
  },
  {
   "cell_type": "markdown",
   "metadata": {},
   "source": [
    "$\\rightarrow$ _Notar que la función una vez definida puede ser llamada en cualquier otro momento_"
   ]
  },
  {
   "cell_type": "code",
   "execution_count": null,
   "metadata": {},
   "outputs": [],
   "source": [
    "escribir_hola_2_veces()"
   ]
  },
  {
   "cell_type": "code",
   "execution_count": null,
   "metadata": {},
   "outputs": [],
   "source": [
    "for i in range(2):\n",
    "    escribir_hola_2_veces()"
   ]
  },
  {
   "cell_type": "markdown",
   "metadata": {},
   "source": [
    "#### b. Función con parámetros de entrada:"
   ]
  },
  {
   "cell_type": "code",
   "execution_count": null,
   "metadata": {},
   "outputs": [],
   "source": [
    "def imprimir_mensaje_bonito(variable, valor):\n",
    "    print(f'La variable {variable} es {valor}')\n",
    "\n",
    "manzanas= 150\n",
    "nombre_var = \"Manzana\"\n",
    "\n",
    "imprimir_mensaje_bonito(nombre_var, manzanas)"
   ]
  },
  {
   "cell_type": "markdown",
   "metadata": {},
   "source": [
    "#### c. Función Completa - con entradas y salidas:"
   ]
  },
  {
   "cell_type": "code",
   "execution_count": null,
   "metadata": {},
   "outputs": [],
   "source": [
    "def factorial(numero):\n",
    "    factorial_n = 1\n",
    "    for i in range(2,numero+1):\n",
    "        factorial_n*=i\n",
    "    return factorial_n # retorno - salida\n",
    "\n",
    "factorial(10)"
   ]
  },
  {
   "cell_type": "markdown",
   "metadata": {},
   "source": [
    "$\\rightarrow$ _La utilidad de el ```return``` es que la función entrega una salida que se puede guardar como variable._"
   ]
  },
  {
   "cell_type": "code",
   "execution_count": null,
   "metadata": {},
   "outputs": [],
   "source": [
    "f2 = factorial(2)\n",
    "f4 = factorial(4)\n",
    "mult = f2 * f4\n",
    "\n",
    "imprimir_mensaje_bonito(\"f2\",f2)\n",
    "imprimir_mensaje_bonito(\"f4\",f4)\n",
    "imprimir_mensaje_bonito(\"multiplicación f2 x f4\", mult)"
   ]
  }
 ],
 "metadata": {
  "kernelspec": {
   "display_name": ".venv",
   "language": "python",
   "name": "python3"
  },
  "language_info": {
   "codemirror_mode": {
    "name": "ipython",
    "version": 3
   },
   "file_extension": ".py",
   "mimetype": "text/x-python",
   "name": "python",
   "nbconvert_exporter": "python",
   "pygments_lexer": "ipython3",
   "version": "3.12.3"
  }
 },
 "nbformat": 4,
 "nbformat_minor": 2
}
